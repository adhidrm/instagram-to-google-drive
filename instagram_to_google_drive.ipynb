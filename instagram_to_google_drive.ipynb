{
  "nbformat": 4,
  "nbformat_minor": 0,
  "metadata": {
    "colab": {
      "name": "instagram to google drive.ipynb",
      "provenance": [],
      "collapsed_sections": [
        "ercDPZ6CIlVz"
      ],
      "toc_visible": true
    },
    "kernelspec": {
      "name": "python3",
      "display_name": "Python 3"
    }
  },
  "cells": [
    {
      "cell_type": "markdown",
      "metadata": {
        "colab_type": "text",
        "id": "ercDPZ6CIlVz"
      },
      "source": [
        "# <img src=\"https://upload.wikimedia.org/wikipedia/commons/thumb/d/da/Google_Drive_logo.png/600px-Google_Drive_logo.png\" height=30px>      ___Mount / Unmount Gdrive!___"
      ]
    },
    {
      "cell_type": "code",
      "metadata": {
        "colab_type": "code",
        "cellView": "form",
        "id": "U2avD1zRIlWA",
        "colab": {}
      },
      "source": [
        "#@markdown <br><center><img src='https://upload.wikimedia.org/wikipedia/commons/thumb/d/da/Google_Drive_logo.png/600px-Google_Drive_logo.png' height=\"50\" alt=\"Gdrive logo\"/></center>\n",
        "#@markdown <center><h3>Mount Gdrive to /content/drive</h3></center><br>\n",
        "MODE = \"MOUNT\" #@param [\"MOUNT\", \"UNMOUNT\"]\n",
        "#Mount your Gdrive! \n",
        "from google.colab import drive\n",
        "drive.mount._DEBUG = False\n",
        "if MODE == \"MOUNT\":\n",
        "  drive.mount('/content/drive', force_remount=True)\n",
        "elif MODE == \"UNMOUNT\":\n",
        "  try:\n",
        "    drive.flush_and_unmount()\n",
        "  except ValueError:\n",
        "    pass\n",
        "  get_ipython().system_raw(\"rm -rf /root/.config/Google/DriveFS\")"
      ],
      "execution_count": null,
      "outputs": []
    },
    {
      "cell_type": "markdown",
      "metadata": {
        "colab_type": "text",
        "id": "btdqrLW3Ztyz"
      },
      "source": [
        "# <img src=\"https://upload.wikimedia.org/wikipedia/commons/thumb/e/e7/Instagram_logo_2016.svg/1200px-Instagram_logo_2016.svg.png\" height=30px>      ___Instagram Profile Clone___"
      ]
    },
    {
      "cell_type": "code",
      "metadata": {
        "id": "_NiTOoCg-hLp",
        "colab_type": "code",
        "cellView": "form",
        "colab": {}
      },
      "source": [
        "# ============================= FORM ============================= #\n",
        "# @markdown #### ⬅️ Give information  to your account\n",
        "# ================================================================ #\n",
        "\n",
        "\n",
        "\n",
        "import os\n",
        "from IPython.display import HTML, clear_output\n",
        "%pip install instagram-scraper\n",
        "\n",
        "#%cd /content/drive/My Drive\n",
        "\n",
        "\n",
        "# @markdown Note: user name and password is optional. Only for private account.\n",
        "account_user_name = '' #@param {type:\"string\"}\n",
        "account_user_password = '' #@param {type:\"string\"}\n",
        "\n",
        "output_dir = \"/content/drive/My Drive/\" #@param {type:\"string\"}\n",
        "%cd \"$output_dir\"\n",
        "\n",
        "cloned_user_name = \"\" #@param {type:\"string\"}\n",
        "\n",
        "!instagram-scraper \"$cloned_user_name\" -u \"$account_user_name\" -p \"$account_user_password\"\n",
        "print(\"Task Completed!\")"
      ],
      "execution_count": null,
      "outputs": []
    }
  ]
}